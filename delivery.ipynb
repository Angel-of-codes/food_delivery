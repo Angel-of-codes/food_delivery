{
 "cells": [
  {
   "cell_type": "markdown",
   "id": "fc298c7e-5633-4fac-be20-cbf0f31f8e42",
   "metadata": {},
   "source": [
    "# Delivery DataSet"
   ]
  },
  {
   "cell_type": "markdown",
   "id": "b083b469-c363-44f2-ae35-63e71d9f4e7e",
   "metadata": {},
   "source": [
    "## problem statement"
   ]
  },
  {
   "cell_type": "markdown",
   "id": "5c703735-9de5-47e1-bf1a-f35fd4ca0ce4",
   "metadata": {},
   "source": [
    "[x]  Type of Orders.\n",
    "\n",
    "[x]  Delivery Person Age.\n",
    "\n",
    "[x]  Longest Time consuming delivery.\n",
    "\n",
    "[x]  Type of vehicle used in delivery. \n",
    "\n",
    "[x]  Find highst rating of vehicle.\n",
    "\n"
   ]
  },
  {
   "cell_type": "markdown",
   "id": "f0afc046-43b7-41ce-83e5-d57bd33e851f",
   "metadata": {},
   "source": [
    "## Load the modules"
   ]
  },
  {
   "cell_type": "code",
   "execution_count": 22,
   "id": "836c4085-bfad-4695-b73a-6febf60aa07a",
   "metadata": {},
   "outputs": [
    {
     "name": "stdout",
     "output_type": "stream",
     "text": [
      "loaded\n"
     ]
    }
   ],
   "source": [
    "import pandas as pd\n",
    "import matplotlib.pyplot as plt \n",
    "import seaborn as sns\n",
    "import warnings\n",
    "warnings.filterwarnings('ignore')\n",
    "print('loaded')"
   ]
  },
  {
   "cell_type": "markdown",
   "id": "6f867bc9-bdaf-441a-bce4-1df4b2dd990f",
   "metadata": {},
   "source": [
    "## Load csv file into DataFrame"
   ]
  },
  {
   "cell_type": "code",
   "execution_count": 2,
   "id": "a89a4df1-ecfb-4c51-8b00-130791b20412",
   "metadata": {},
   "outputs": [
    {
     "data": {
      "text/html": [
       "<div>\n",
       "<style scoped>\n",
       "    .dataframe tbody tr th:only-of-type {\n",
       "        vertical-align: middle;\n",
       "    }\n",
       "\n",
       "    .dataframe tbody tr th {\n",
       "        vertical-align: top;\n",
       "    }\n",
       "\n",
       "    .dataframe thead th {\n",
       "        text-align: right;\n",
       "    }\n",
       "</style>\n",
       "<table border=\"1\" class=\"dataframe\">\n",
       "  <thead>\n",
       "    <tr style=\"text-align: right;\">\n",
       "      <th></th>\n",
       "      <th>ID</th>\n",
       "      <th>Delivery_person_ID</th>\n",
       "      <th>Delivery_person_Age</th>\n",
       "      <th>Delivery_person_Ratings</th>\n",
       "      <th>Restaurant_latitude</th>\n",
       "      <th>Restaurant_longitude</th>\n",
       "      <th>Delivery_location_latitude</th>\n",
       "      <th>Delivery_location_longitude</th>\n",
       "      <th>Type_of_order</th>\n",
       "      <th>Type_of_vehicle</th>\n",
       "      <th>Time_taken(min)</th>\n",
       "    </tr>\n",
       "  </thead>\n",
       "  <tbody>\n",
       "    <tr>\n",
       "      <th>0</th>\n",
       "      <td>4607</td>\n",
       "      <td>INDORES13DEL02</td>\n",
       "      <td>37</td>\n",
       "      <td>4.9</td>\n",
       "      <td>22.745049</td>\n",
       "      <td>75.892471</td>\n",
       "      <td>22.765049</td>\n",
       "      <td>75.912471</td>\n",
       "      <td>Snack</td>\n",
       "      <td>motorcycle</td>\n",
       "      <td>24</td>\n",
       "    </tr>\n",
       "    <tr>\n",
       "      <th>1</th>\n",
       "      <td>B379</td>\n",
       "      <td>BANGRES18DEL02</td>\n",
       "      <td>34</td>\n",
       "      <td>4.5</td>\n",
       "      <td>12.913041</td>\n",
       "      <td>77.683237</td>\n",
       "      <td>13.043041</td>\n",
       "      <td>77.813237</td>\n",
       "      <td>Snack</td>\n",
       "      <td>scooter</td>\n",
       "      <td>33</td>\n",
       "    </tr>\n",
       "    <tr>\n",
       "      <th>2</th>\n",
       "      <td>5D6D</td>\n",
       "      <td>BANGRES19DEL01</td>\n",
       "      <td>23</td>\n",
       "      <td>4.4</td>\n",
       "      <td>12.914264</td>\n",
       "      <td>77.678400</td>\n",
       "      <td>12.924264</td>\n",
       "      <td>77.688400</td>\n",
       "      <td>Drinks</td>\n",
       "      <td>motorcycle</td>\n",
       "      <td>26</td>\n",
       "    </tr>\n",
       "    <tr>\n",
       "      <th>3</th>\n",
       "      <td>7A6A</td>\n",
       "      <td>COIMBRES13DEL02</td>\n",
       "      <td>38</td>\n",
       "      <td>4.7</td>\n",
       "      <td>11.003669</td>\n",
       "      <td>76.976494</td>\n",
       "      <td>11.053669</td>\n",
       "      <td>77.026494</td>\n",
       "      <td>Buffet</td>\n",
       "      <td>motorcycle</td>\n",
       "      <td>21</td>\n",
       "    </tr>\n",
       "    <tr>\n",
       "      <th>4</th>\n",
       "      <td>70A2</td>\n",
       "      <td>CHENRES12DEL01</td>\n",
       "      <td>32</td>\n",
       "      <td>4.6</td>\n",
       "      <td>12.972793</td>\n",
       "      <td>80.249982</td>\n",
       "      <td>13.012793</td>\n",
       "      <td>80.289982</td>\n",
       "      <td>Snack</td>\n",
       "      <td>scooter</td>\n",
       "      <td>30</td>\n",
       "    </tr>\n",
       "    <tr>\n",
       "      <th>...</th>\n",
       "      <td>...</td>\n",
       "      <td>...</td>\n",
       "      <td>...</td>\n",
       "      <td>...</td>\n",
       "      <td>...</td>\n",
       "      <td>...</td>\n",
       "      <td>...</td>\n",
       "      <td>...</td>\n",
       "      <td>...</td>\n",
       "      <td>...</td>\n",
       "      <td>...</td>\n",
       "    </tr>\n",
       "    <tr>\n",
       "      <th>45588</th>\n",
       "      <td>7C09</td>\n",
       "      <td>JAPRES04DEL01</td>\n",
       "      <td>30</td>\n",
       "      <td>4.8</td>\n",
       "      <td>26.902328</td>\n",
       "      <td>75.794257</td>\n",
       "      <td>26.912328</td>\n",
       "      <td>75.804257</td>\n",
       "      <td>Meal</td>\n",
       "      <td>motorcycle</td>\n",
       "      <td>32</td>\n",
       "    </tr>\n",
       "    <tr>\n",
       "      <th>45589</th>\n",
       "      <td>D641</td>\n",
       "      <td>AGRRES16DEL01</td>\n",
       "      <td>21</td>\n",
       "      <td>4.6</td>\n",
       "      <td>0.000000</td>\n",
       "      <td>0.000000</td>\n",
       "      <td>0.070000</td>\n",
       "      <td>0.070000</td>\n",
       "      <td>Buffet</td>\n",
       "      <td>motorcycle</td>\n",
       "      <td>36</td>\n",
       "    </tr>\n",
       "    <tr>\n",
       "      <th>45590</th>\n",
       "      <td>4F8D</td>\n",
       "      <td>CHENRES08DEL03</td>\n",
       "      <td>30</td>\n",
       "      <td>4.9</td>\n",
       "      <td>13.022394</td>\n",
       "      <td>80.242439</td>\n",
       "      <td>13.052394</td>\n",
       "      <td>80.272439</td>\n",
       "      <td>Drinks</td>\n",
       "      <td>scooter</td>\n",
       "      <td>16</td>\n",
       "    </tr>\n",
       "    <tr>\n",
       "      <th>45591</th>\n",
       "      <td>5EEE</td>\n",
       "      <td>COIMBRES11DEL01</td>\n",
       "      <td>20</td>\n",
       "      <td>4.7</td>\n",
       "      <td>11.001753</td>\n",
       "      <td>76.986241</td>\n",
       "      <td>11.041753</td>\n",
       "      <td>77.026241</td>\n",
       "      <td>Snack</td>\n",
       "      <td>motorcycle</td>\n",
       "      <td>26</td>\n",
       "    </tr>\n",
       "    <tr>\n",
       "      <th>45592</th>\n",
       "      <td>5FB2</td>\n",
       "      <td>RANCHIRES09DEL02</td>\n",
       "      <td>23</td>\n",
       "      <td>4.9</td>\n",
       "      <td>23.351058</td>\n",
       "      <td>85.325731</td>\n",
       "      <td>23.431058</td>\n",
       "      <td>85.405731</td>\n",
       "      <td>Snack</td>\n",
       "      <td>scooter</td>\n",
       "      <td>36</td>\n",
       "    </tr>\n",
       "  </tbody>\n",
       "</table>\n",
       "<p>45593 rows × 11 columns</p>\n",
       "</div>"
      ],
      "text/plain": [
       "         ID Delivery_person_ID  Delivery_person_Age  Delivery_person_Ratings  \\\n",
       "0      4607     INDORES13DEL02                   37                      4.9   \n",
       "1      B379     BANGRES18DEL02                   34                      4.5   \n",
       "2      5D6D     BANGRES19DEL01                   23                      4.4   \n",
       "3      7A6A    COIMBRES13DEL02                   38                      4.7   \n",
       "4      70A2     CHENRES12DEL01                   32                      4.6   \n",
       "...     ...                ...                  ...                      ...   \n",
       "45588  7C09      JAPRES04DEL01                   30                      4.8   \n",
       "45589  D641      AGRRES16DEL01                   21                      4.6   \n",
       "45590  4F8D     CHENRES08DEL03                   30                      4.9   \n",
       "45591  5EEE    COIMBRES11DEL01                   20                      4.7   \n",
       "45592  5FB2   RANCHIRES09DEL02                   23                      4.9   \n",
       "\n",
       "       Restaurant_latitude  Restaurant_longitude  Delivery_location_latitude  \\\n",
       "0                22.745049             75.892471                   22.765049   \n",
       "1                12.913041             77.683237                   13.043041   \n",
       "2                12.914264             77.678400                   12.924264   \n",
       "3                11.003669             76.976494                   11.053669   \n",
       "4                12.972793             80.249982                   13.012793   \n",
       "...                    ...                   ...                         ...   \n",
       "45588            26.902328             75.794257                   26.912328   \n",
       "45589             0.000000              0.000000                    0.070000   \n",
       "45590            13.022394             80.242439                   13.052394   \n",
       "45591            11.001753             76.986241                   11.041753   \n",
       "45592            23.351058             85.325731                   23.431058   \n",
       "\n",
       "       Delivery_location_longitude Type_of_order Type_of_vehicle  \\\n",
       "0                        75.912471        Snack      motorcycle    \n",
       "1                        77.813237        Snack         scooter    \n",
       "2                        77.688400       Drinks      motorcycle    \n",
       "3                        77.026494       Buffet      motorcycle    \n",
       "4                        80.289982        Snack         scooter    \n",
       "...                            ...           ...             ...   \n",
       "45588                    75.804257         Meal      motorcycle    \n",
       "45589                     0.070000       Buffet      motorcycle    \n",
       "45590                    80.272439       Drinks         scooter    \n",
       "45591                    77.026241        Snack      motorcycle    \n",
       "45592                    85.405731        Snack         scooter    \n",
       "\n",
       "       Time_taken(min)  \n",
       "0                   24  \n",
       "1                   33  \n",
       "2                   26  \n",
       "3                   21  \n",
       "4                   30  \n",
       "...                ...  \n",
       "45588               32  \n",
       "45589               36  \n",
       "45590               16  \n",
       "45591               26  \n",
       "45592               36  \n",
       "\n",
       "[45593 rows x 11 columns]"
      ]
     },
     "execution_count": 2,
     "metadata": {},
     "output_type": "execute_result"
    }
   ],
   "source": [
    "df = pd.read_csv(\"deliverytime.csv\")\n",
    "df"
   ]
  },
  {
   "cell_type": "markdown",
   "id": "cf3097bd-e472-4dde-a364-3a1a92ea7bb5",
   "metadata": {},
   "source": [
    "## Data Cleaning"
   ]
  },
  {
   "cell_type": "code",
   "execution_count": 3,
   "id": "051fc85d-f078-4f7a-a4d0-a3944600cc7a",
   "metadata": {},
   "outputs": [
    {
     "name": "stdout",
     "output_type": "stream",
     "text": [
      "<class 'pandas.core.frame.DataFrame'>\n",
      "RangeIndex: 45593 entries, 0 to 45592\n",
      "Data columns (total 11 columns):\n",
      " #   Column                       Non-Null Count  Dtype  \n",
      "---  ------                       --------------  -----  \n",
      " 0   ID                           45593 non-null  object \n",
      " 1   Delivery_person_ID           45593 non-null  object \n",
      " 2   Delivery_person_Age          45593 non-null  int64  \n",
      " 3   Delivery_person_Ratings      45593 non-null  float64\n",
      " 4   Restaurant_latitude          45593 non-null  float64\n",
      " 5   Restaurant_longitude         45593 non-null  float64\n",
      " 6   Delivery_location_latitude   45593 non-null  float64\n",
      " 7   Delivery_location_longitude  45593 non-null  float64\n",
      " 8   Type_of_order                45593 non-null  object \n",
      " 9   Type_of_vehicle              45593 non-null  object \n",
      " 10  Time_taken(min)              45593 non-null  int64  \n",
      "dtypes: float64(5), int64(2), object(4)\n",
      "memory usage: 3.8+ MB\n"
     ]
    }
   ],
   "source": [
    "df.info()"
   ]
  },
  {
   "cell_type": "code",
   "execution_count": 4,
   "id": "3740890d-9dbc-4afb-903f-b8e5e9671cc4",
   "metadata": {},
   "outputs": [
    {
     "data": {
      "text/plain": [
       "ID                             45593\n",
       "Delivery_person_ID             45593\n",
       "Delivery_person_Age            45593\n",
       "Delivery_person_Ratings        45593\n",
       "Restaurant_latitude            45593\n",
       "Restaurant_longitude           45593\n",
       "Delivery_location_latitude     45593\n",
       "Delivery_location_longitude    45593\n",
       "Type_of_order                  45593\n",
       "Type_of_vehicle                45593\n",
       "Time_taken(min)                45593\n",
       "dtype: int64"
      ]
     },
     "execution_count": 4,
     "metadata": {},
     "output_type": "execute_result"
    }
   ],
   "source": [
    "df.isnull().count()"
   ]
  },
  {
   "cell_type": "code",
   "execution_count": 5,
   "id": "26bde49f-15d8-4df8-bb09-1dfd251dbf2a",
   "metadata": {},
   "outputs": [
    {
     "data": {
      "text/html": [
       "<div>\n",
       "<style scoped>\n",
       "    .dataframe tbody tr th:only-of-type {\n",
       "        vertical-align: middle;\n",
       "    }\n",
       "\n",
       "    .dataframe tbody tr th {\n",
       "        vertical-align: top;\n",
       "    }\n",
       "\n",
       "    .dataframe thead th {\n",
       "        text-align: right;\n",
       "    }\n",
       "</style>\n",
       "<table border=\"1\" class=\"dataframe\">\n",
       "  <thead>\n",
       "    <tr style=\"text-align: right;\">\n",
       "      <th></th>\n",
       "      <th>Delivery_person_Age</th>\n",
       "      <th>Delivery_person_Ratings</th>\n",
       "      <th>Restaurant_latitude</th>\n",
       "      <th>Restaurant_longitude</th>\n",
       "      <th>Delivery_location_latitude</th>\n",
       "      <th>Delivery_location_longitude</th>\n",
       "      <th>Time_taken(min)</th>\n",
       "    </tr>\n",
       "  </thead>\n",
       "  <tbody>\n",
       "    <tr>\n",
       "      <th>count</th>\n",
       "      <td>45593.000000</td>\n",
       "      <td>45593.000000</td>\n",
       "      <td>45593.000000</td>\n",
       "      <td>45593.000000</td>\n",
       "      <td>45593.000000</td>\n",
       "      <td>45593.000000</td>\n",
       "      <td>45593.000000</td>\n",
       "    </tr>\n",
       "    <tr>\n",
       "      <th>mean</th>\n",
       "      <td>29.544075</td>\n",
       "      <td>4.632367</td>\n",
       "      <td>17.017729</td>\n",
       "      <td>70.231332</td>\n",
       "      <td>17.465186</td>\n",
       "      <td>70.845702</td>\n",
       "      <td>26.294607</td>\n",
       "    </tr>\n",
       "    <tr>\n",
       "      <th>std</th>\n",
       "      <td>5.696793</td>\n",
       "      <td>0.327708</td>\n",
       "      <td>8.185109</td>\n",
       "      <td>22.883647</td>\n",
       "      <td>7.335122</td>\n",
       "      <td>21.118812</td>\n",
       "      <td>9.383806</td>\n",
       "    </tr>\n",
       "    <tr>\n",
       "      <th>min</th>\n",
       "      <td>15.000000</td>\n",
       "      <td>1.000000</td>\n",
       "      <td>-30.905562</td>\n",
       "      <td>-88.366217</td>\n",
       "      <td>0.010000</td>\n",
       "      <td>0.010000</td>\n",
       "      <td>10.000000</td>\n",
       "    </tr>\n",
       "    <tr>\n",
       "      <th>25%</th>\n",
       "      <td>25.000000</td>\n",
       "      <td>4.600000</td>\n",
       "      <td>12.933284</td>\n",
       "      <td>73.170000</td>\n",
       "      <td>12.988453</td>\n",
       "      <td>73.280000</td>\n",
       "      <td>19.000000</td>\n",
       "    </tr>\n",
       "    <tr>\n",
       "      <th>50%</th>\n",
       "      <td>29.000000</td>\n",
       "      <td>4.700000</td>\n",
       "      <td>18.546947</td>\n",
       "      <td>75.898497</td>\n",
       "      <td>18.633934</td>\n",
       "      <td>76.002574</td>\n",
       "      <td>26.000000</td>\n",
       "    </tr>\n",
       "    <tr>\n",
       "      <th>75%</th>\n",
       "      <td>34.000000</td>\n",
       "      <td>4.800000</td>\n",
       "      <td>22.728163</td>\n",
       "      <td>78.044095</td>\n",
       "      <td>22.785049</td>\n",
       "      <td>78.107044</td>\n",
       "      <td>32.000000</td>\n",
       "    </tr>\n",
       "    <tr>\n",
       "      <th>max</th>\n",
       "      <td>50.000000</td>\n",
       "      <td>6.000000</td>\n",
       "      <td>30.914057</td>\n",
       "      <td>88.433452</td>\n",
       "      <td>31.054057</td>\n",
       "      <td>88.563452</td>\n",
       "      <td>54.000000</td>\n",
       "    </tr>\n",
       "  </tbody>\n",
       "</table>\n",
       "</div>"
      ],
      "text/plain": [
       "       Delivery_person_Age  Delivery_person_Ratings  Restaurant_latitude  \\\n",
       "count         45593.000000             45593.000000         45593.000000   \n",
       "mean             29.544075                 4.632367            17.017729   \n",
       "std               5.696793                 0.327708             8.185109   \n",
       "min              15.000000                 1.000000           -30.905562   \n",
       "25%              25.000000                 4.600000            12.933284   \n",
       "50%              29.000000                 4.700000            18.546947   \n",
       "75%              34.000000                 4.800000            22.728163   \n",
       "max              50.000000                 6.000000            30.914057   \n",
       "\n",
       "       Restaurant_longitude  Delivery_location_latitude  \\\n",
       "count          45593.000000                45593.000000   \n",
       "mean              70.231332                   17.465186   \n",
       "std               22.883647                    7.335122   \n",
       "min              -88.366217                    0.010000   \n",
       "25%               73.170000                   12.988453   \n",
       "50%               75.898497                   18.633934   \n",
       "75%               78.044095                   22.785049   \n",
       "max               88.433452                   31.054057   \n",
       "\n",
       "       Delivery_location_longitude  Time_taken(min)  \n",
       "count                 45593.000000     45593.000000  \n",
       "mean                     70.845702        26.294607  \n",
       "std                      21.118812         9.383806  \n",
       "min                       0.010000        10.000000  \n",
       "25%                      73.280000        19.000000  \n",
       "50%                      76.002574        26.000000  \n",
       "75%                      78.107044        32.000000  \n",
       "max                      88.563452        54.000000  "
      ]
     },
     "execution_count": 5,
     "metadata": {},
     "output_type": "execute_result"
    }
   ],
   "source": [
    "df.describe()"
   ]
  },
  {
   "cell_type": "markdown",
   "id": "f15316d9-1d4a-479b-970b-e6868ab55c68",
   "metadata": {},
   "source": [
    "### Data is clean !"
   ]
  },
  {
   "cell_type": "markdown",
   "id": "958b3c42-934b-404e-a9e9-f88cbe5e52ef",
   "metadata": {},
   "source": [
    "## 1. Type of Orders."
   ]
  },
  {
   "cell_type": "code",
   "execution_count": 6,
   "id": "69974a49-5235-4137-b6bd-413b97a0ab22",
   "metadata": {},
   "outputs": [],
   "source": [
    "sns.set_style('darkgrid')"
   ]
  },
  {
   "cell_type": "code",
   "execution_count": 7,
   "id": "fc0dae36-8478-4028-ac0e-cd30015dcde2",
   "metadata": {},
   "outputs": [
    {
     "data": {
      "text/plain": [
       "Type_of_order\n",
       "Snack      11533\n",
       "Meal       11458\n",
       "Drinks     11322\n",
       "Buffet     11280\n",
       "Name: count, dtype: int64"
      ]
     },
     "execution_count": 7,
     "metadata": {},
     "output_type": "execute_result"
    }
   ],
   "source": [
    "order_types_values =df['Type_of_order'].value_counts()\n",
    "order_types_values"
   ]
  },
  {
   "cell_type": "code",
   "execution_count": 8,
   "id": "34d396f4-0c1a-478d-93a4-da18eab1003c",
   "metadata": {},
   "outputs": [
    {
     "data": {
      "image/png": "[encoded data removed]",
      "text/plain": [
       "<Figure size 1200x700 with 1 Axes>"
      ]
     },
     "metadata": {},
     "output_type": "display_data"
    }
   ],
   "source": [
    "plt.figure(figsize = (12,7))\n",
    "order_types_values.plot(kind = 'line',title = 'Top Orders.',color = 'darkblue',lw = 3)\n",
    "plt.xticks(rotation = 45)\n",
    "plt.show()"
   ]
  },
  {
   "cell_type": "markdown",
   "id": "5d5f2184-9a22-4ddb-aa75-3b57e481b940",
   "metadata": {},
   "source": [
    "### The Snacks are Highly Ordered By the Customers.."
   ]
  },
  {
   "cell_type": "markdown",
   "id": "de65c984-f704-4af0-8708-faff564cb950",
   "metadata": {},
   "source": [
    "## Delivery Person Age."
   ]
  },
  {
   "cell_type": "code",
   "execution_count": 9,
   "id": "a8e38ec8-9219-47ce-a168-d2d2e08b5ae8",
   "metadata": {},
   "outputs": [
    {
     "data": {
      "text/html": [
       "<div>\n",
       "<style scoped>\n",
       "    .dataframe tbody tr th:only-of-type {\n",
       "        vertical-align: middle;\n",
       "    }\n",
       "\n",
       "    .dataframe tbody tr th {\n",
       "        vertical-align: top;\n",
       "    }\n",
       "\n",
       "    .dataframe thead th {\n",
       "        text-align: right;\n",
       "    }\n",
       "</style>\n",
       "<table border=\"1\" class=\"dataframe\">\n",
       "  <thead>\n",
       "    <tr style=\"text-align: right;\">\n",
       "      <th></th>\n",
       "      <th>Delivery_person_Age</th>\n",
       "    </tr>\n",
       "  </thead>\n",
       "  <tbody>\n",
       "    <tr>\n",
       "      <th>count</th>\n",
       "      <td>45593.000000</td>\n",
       "    </tr>\n",
       "    <tr>\n",
       "      <th>mean</th>\n",
       "      <td>29.544075</td>\n",
       "    </tr>\n",
       "    <tr>\n",
       "      <th>std</th>\n",
       "      <td>5.696793</td>\n",
       "    </tr>\n",
       "    <tr>\n",
       "      <th>min</th>\n",
       "      <td>15.000000</td>\n",
       "    </tr>\n",
       "    <tr>\n",
       "      <th>25%</th>\n",
       "      <td>25.000000</td>\n",
       "    </tr>\n",
       "    <tr>\n",
       "      <th>50%</th>\n",
       "      <td>29.000000</td>\n",
       "    </tr>\n",
       "    <tr>\n",
       "      <th>75%</th>\n",
       "      <td>34.000000</td>\n",
       "    </tr>\n",
       "    <tr>\n",
       "      <th>max</th>\n",
       "      <td>50.000000</td>\n",
       "    </tr>\n",
       "  </tbody>\n",
       "</table>\n",
       "</div>"
      ],
      "text/plain": [
       "       Delivery_person_Age\n",
       "count         45593.000000\n",
       "mean             29.544075\n",
       "std               5.696793\n",
       "min              15.000000\n",
       "25%              25.000000\n",
       "50%              29.000000\n",
       "75%              34.000000\n",
       "max              50.000000"
      ]
     },
     "execution_count": 9,
     "metadata": {},
     "output_type": "execute_result"
    }
   ],
   "source": [
    "delivery_person_age = df[['Delivery_person_Age']].sort_values(by='Delivery_person_Age',ascending = True)\n",
    "delivery_person_age.describe()"
   ]
  },
  {
   "cell_type": "code",
   "execution_count": 10,
   "id": "8f533fd2-8ea1-4f27-93c7-97eeebb3f7a3",
   "metadata": {},
   "outputs": [
    {
     "data": {
      "image/png": "[encoded data removed]",
      "text/plain": [
       "<Figure size 1200x700 with 1 Axes>"
      ]
     },
     "metadata": {},
     "output_type": "display_data"
    }
   ],
   "source": [
    "plt.figure(figsize = (12,7))\n",
    "plt.hist(delivery_person_age,bins = 10,color = 'green',)\n",
    "plt.title(\"Delivery_person_Age\")\n",
    "plt.show()"
   ]
  },
  {
   "cell_type": "markdown",
   "id": "69a516df-8bbb-4650-91b5-8aac4cc60102",
   "metadata": {},
   "source": [
    "### Most of People are Age 30.."
   ]
  },
  {
   "cell_type": "markdown",
   "id": "1e4e709c-7870-4a32-8bce-88a87907a2da",
   "metadata": {},
   "source": [
    "## Longest Time consuming delivery."
   ]
  },
  {
   "cell_type": "code",
   "execution_count": 11,
   "id": "15583f84-1f79-4afe-aa48-31dd0f760af0",
   "metadata": {},
   "outputs": [
    {
     "data": {
      "text/html": [
       "<div>\n",
       "<style scoped>\n",
       "    .dataframe tbody tr th:only-of-type {\n",
       "        vertical-align: middle;\n",
       "    }\n",
       "\n",
       "    .dataframe tbody tr th {\n",
       "        vertical-align: top;\n",
       "    }\n",
       "\n",
       "    .dataframe thead th {\n",
       "        text-align: right;\n",
       "    }\n",
       "</style>\n",
       "<table border=\"1\" class=\"dataframe\">\n",
       "  <thead>\n",
       "    <tr style=\"text-align: right;\">\n",
       "      <th></th>\n",
       "      <th>Time_taken(min)</th>\n",
       "    </tr>\n",
       "  </thead>\n",
       "  <tbody>\n",
       "    <tr>\n",
       "      <th>count</th>\n",
       "      <td>45593.000000</td>\n",
       "    </tr>\n",
       "    <tr>\n",
       "      <th>mean</th>\n",
       "      <td>26.294607</td>\n",
       "    </tr>\n",
       "    <tr>\n",
       "      <th>std</th>\n",
       "      <td>9.383806</td>\n",
       "    </tr>\n",
       "    <tr>\n",
       "      <th>min</th>\n",
       "      <td>10.000000</td>\n",
       "    </tr>\n",
       "    <tr>\n",
       "      <th>25%</th>\n",
       "      <td>19.000000</td>\n",
       "    </tr>\n",
       "    <tr>\n",
       "      <th>50%</th>\n",
       "      <td>26.000000</td>\n",
       "    </tr>\n",
       "    <tr>\n",
       "      <th>75%</th>\n",
       "      <td>32.000000</td>\n",
       "    </tr>\n",
       "    <tr>\n",
       "      <th>max</th>\n",
       "      <td>54.000000</td>\n",
       "    </tr>\n",
       "  </tbody>\n",
       "</table>\n",
       "</div>"
      ],
      "text/plain": [
       "       Time_taken(min)\n",
       "count     45593.000000\n",
       "mean         26.294607\n",
       "std           9.383806\n",
       "min          10.000000\n",
       "25%          19.000000\n",
       "50%          26.000000\n",
       "75%          32.000000\n",
       "max          54.000000"
      ]
     },
     "execution_count": 11,
     "metadata": {},
     "output_type": "execute_result"
    }
   ],
   "source": [
    "ltime_deli = df[['Time_taken(min)']].sort_values(by = 'Time_taken(min)',ascending = True)\n",
    "ltime_deli.describe()"
   ]
  },
  {
   "cell_type": "code",
   "execution_count": 23,
   "id": "809e6772-6737-43ec-85d2-044b5134b70f",
   "metadata": {},
   "outputs": [
    {
     "data": {
      "image/png": "[encoded data removed]",
      "text/plain": [
       "<Figure size 1200x700 with 1 Axes>"
      ]
     },
     "metadata": {},
     "output_type": "display_data"
    }
   ],
   "source": [
    "plt.figure(figsize = (12,7))\n",
    "sns.distplot(ltime_deli,bins = 10,color = 'r');\n",
    "plt.ylabel('No. of Order')\n",
    "plt.xlabel('Time (min)')\n",
    "plt.title(\"TIme Taken in Delivery (min)\");\n",
    "plt.show();"
   ]
  },
  {
   "cell_type": "markdown",
   "id": "6933aa60-1093-46a9-a77d-74b80d243ac7",
   "metadata": {},
   "source": [
    "### The Highest Time of Delivery is 50-55 min is there"
   ]
  },
  {
   "cell_type": "markdown",
   "id": "d8ef632f-afd9-4e03-a707-804611df9c58",
   "metadata": {},
   "source": [
    "## type of vehicle used in delivery."
   ]
  },
  {
   "cell_type": "code",
   "execution_count": 13,
   "id": "ad9d1ec5-b488-4e40-b3b5-27d3d560898d",
   "metadata": {},
   "outputs": [
    {
     "data": {
      "text/plain": [
       "Type_of_vehicle  \n",
       "motorcycle           26435\n",
       "scooter              15276\n",
       "electric_scooter      3814\n",
       "bicycle                 68\n",
       "Name: count, dtype: int64"
      ]
     },
     "execution_count": 13,
     "metadata": {},
     "output_type": "execute_result"
    }
   ],
   "source": [
    "vc_types = df[['Type_of_vehicle']].value_counts()\n",
    "vc_types"
   ]
  },
  {
   "cell_type": "code",
   "execution_count": 14,
   "id": "49265dda-6284-4ed0-b633-d7dfb31901c1",
   "metadata": {},
   "outputs": [
    {
     "data": {
      "image/png": "[encoded data removed]",
      "text/plain": [
       "<Figure size 1200x700 with 1 Axes>"
      ]
     },
     "metadata": {},
     "output_type": "display_data"
    }
   ],
   "source": [
    "plt.figure(figsize = (12,7))\n",
    "plt.pie(vc_types, labels =['MoterCycle','Scooter','Electric_Scooter','Bicycle'], autopct = '%1.1f%%',shadow = True)\n",
    "plt.title(\"Vehicle of Delivery\")\n",
    "plt.show()"
   ]
  },
  {
   "cell_type": "markdown",
   "id": "292c08cf-b1e4-418d-bbbb-7070b8c15f7f",
   "metadata": {},
   "source": [
    "### The Most Used Vehicle is \"MoterCycle\"."
   ]
  },
  {
   "cell_type": "markdown",
   "id": "5bc68e82-5065-45d6-9880-fe05c95a7b01",
   "metadata": {},
   "source": [
    "##  Find highst rating of vehicle."
   ]
  },
  {
   "cell_type": "code",
   "execution_count": 15,
   "id": "6c4bf87c-5605-4b6f-80c9-83ea24fe856d",
   "metadata": {},
   "outputs": [
    {
     "data": {
      "text/html": [
       "<div>\n",
       "<style scoped>\n",
       "    .dataframe tbody tr th:only-of-type {\n",
       "        vertical-align: middle;\n",
       "    }\n",
       "\n",
       "    .dataframe tbody tr th {\n",
       "        vertical-align: top;\n",
       "    }\n",
       "\n",
       "    .dataframe thead th {\n",
       "        text-align: right;\n",
       "    }\n",
       "</style>\n",
       "<table border=\"1\" class=\"dataframe\">\n",
       "  <thead>\n",
       "    <tr style=\"text-align: right;\">\n",
       "      <th></th>\n",
       "      <th>Delivery_person_Age</th>\n",
       "      <th>Delivery_person_Ratings</th>\n",
       "      <th>Type_of_vehicle</th>\n",
       "    </tr>\n",
       "  </thead>\n",
       "  <tbody>\n",
       "    <tr>\n",
       "      <th>5169</th>\n",
       "      <td>50</td>\n",
       "      <td>6.0</td>\n",
       "      <td>scooter</td>\n",
       "    </tr>\n",
       "    <tr>\n",
       "      <th>17145</th>\n",
       "      <td>50</td>\n",
       "      <td>6.0</td>\n",
       "      <td>electric_scooter</td>\n",
       "    </tr>\n",
       "    <tr>\n",
       "      <th>3586</th>\n",
       "      <td>50</td>\n",
       "      <td>6.0</td>\n",
       "      <td>electric_scooter</td>\n",
       "    </tr>\n",
       "    <tr>\n",
       "      <th>28974</th>\n",
       "      <td>50</td>\n",
       "      <td>6.0</td>\n",
       "      <td>electric_scooter</td>\n",
       "    </tr>\n",
       "    <tr>\n",
       "      <th>45332</th>\n",
       "      <td>50</td>\n",
       "      <td>6.0</td>\n",
       "      <td>electric_scooter</td>\n",
       "    </tr>\n",
       "    <tr>\n",
       "      <th>...</th>\n",
       "      <td>...</td>\n",
       "      <td>...</td>\n",
       "      <td>...</td>\n",
       "    </tr>\n",
       "    <tr>\n",
       "      <th>25873</th>\n",
       "      <td>15</td>\n",
       "      <td>1.0</td>\n",
       "      <td>scooter</td>\n",
       "    </tr>\n",
       "    <tr>\n",
       "      <th>15124</th>\n",
       "      <td>15</td>\n",
       "      <td>1.0</td>\n",
       "      <td>bicycle</td>\n",
       "    </tr>\n",
       "    <tr>\n",
       "      <th>11125</th>\n",
       "      <td>15</td>\n",
       "      <td>1.0</td>\n",
       "      <td>scooter</td>\n",
       "    </tr>\n",
       "    <tr>\n",
       "      <th>41241</th>\n",
       "      <td>15</td>\n",
       "      <td>1.0</td>\n",
       "      <td>scooter</td>\n",
       "    </tr>\n",
       "    <tr>\n",
       "      <th>23488</th>\n",
       "      <td>15</td>\n",
       "      <td>1.0</td>\n",
       "      <td>scooter</td>\n",
       "    </tr>\n",
       "  </tbody>\n",
       "</table>\n",
       "<p>45593 rows × 3 columns</p>\n",
       "</div>"
      ],
      "text/plain": [
       "       Delivery_person_Age  Delivery_person_Ratings    Type_of_vehicle\n",
       "5169                    50                      6.0           scooter \n",
       "17145                   50                      6.0  electric_scooter \n",
       "3586                    50                      6.0  electric_scooter \n",
       "28974                   50                      6.0  electric_scooter \n",
       "45332                   50                      6.0  electric_scooter \n",
       "...                    ...                      ...                ...\n",
       "25873                   15                      1.0           scooter \n",
       "15124                   15                      1.0           bicycle \n",
       "11125                   15                      1.0           scooter \n",
       "41241                   15                      1.0           scooter \n",
       "23488                   15                      1.0           scooter \n",
       "\n",
       "[45593 rows x 3 columns]"
      ]
     },
     "execution_count": 15,
     "metadata": {},
     "output_type": "execute_result"
    }
   ],
   "source": [
    "vc_rating = df[['Delivery_person_Age','Delivery_person_Ratings','Type_of_vehicle']].sort_values(by = 'Delivery_person_Ratings',ascending = False)\n",
    "vc_rating"
   ]
  },
  {
   "cell_type": "code",
   "execution_count": 16,
   "id": "71e57e96-fc5e-46c3-b5c5-7b0edb222aba",
   "metadata": {},
   "outputs": [
    {
     "data": {
      "text/html": [
       "<div>\n",
       "<style scoped>\n",
       "    .dataframe tbody tr th:only-of-type {\n",
       "        vertical-align: middle;\n",
       "    }\n",
       "\n",
       "    .dataframe tbody tr th {\n",
       "        vertical-align: top;\n",
       "    }\n",
       "\n",
       "    .dataframe thead th {\n",
       "        text-align: right;\n",
       "    }\n",
       "</style>\n",
       "<table border=\"1\" class=\"dataframe\">\n",
       "  <thead>\n",
       "    <tr style=\"text-align: right;\">\n",
       "      <th></th>\n",
       "      <th>Delivery_person_Ratings</th>\n",
       "    </tr>\n",
       "    <tr>\n",
       "      <th>Type_of_vehicle</th>\n",
       "      <th></th>\n",
       "    </tr>\n",
       "  </thead>\n",
       "  <tbody>\n",
       "    <tr>\n",
       "      <th>bicycle</th>\n",
       "      <td>4.320588</td>\n",
       "    </tr>\n",
       "    <tr>\n",
       "      <th>electric_scooter</th>\n",
       "      <td>4.641846</td>\n",
       "    </tr>\n",
       "    <tr>\n",
       "      <th>motorcycle</th>\n",
       "      <td>4.626253</td>\n",
       "    </tr>\n",
       "    <tr>\n",
       "      <th>scooter</th>\n",
       "      <td>4.641968</td>\n",
       "    </tr>\n",
       "  </tbody>\n",
       "</table>\n",
       "</div>"
      ],
      "text/plain": [
       "                   Delivery_person_Ratings\n",
       "Type_of_vehicle                           \n",
       "bicycle                           4.320588\n",
       "electric_scooter                  4.641846\n",
       "motorcycle                        4.626253\n",
       "scooter                           4.641968"
      ]
     },
     "execution_count": 16,
     "metadata": {},
     "output_type": "execute_result"
    }
   ],
   "source": [
    "vc_rating = df[['Delivery_person_Ratings','Type_of_vehicle']].groupby('Type_of_vehicle')[['Delivery_person_Ratings']].mean()\n",
    "vc_rating.sort_values(by = \"Type_of_vehicle\",ascending = True)\n"
   ]
  },
  {
   "cell_type": "code",
   "execution_count": 21,
   "id": "4db2a16a-85a5-4712-8efe-9bd6b607214a",
   "metadata": {},
   "outputs": [
    {
     "data": {
      "image/png": "[encoded data removed]",
      "text/plain": [
       "<Figure size 640x480 with 1 Axes>"
      ]
     },
     "metadata": {},
     "output_type": "display_data"
    }
   ],
   "source": [
    "# vc_rating.plot.barh(legend = False,color = \"hotpink\")\n",
    "sns.barplot(x='Delivery_person_Ratings',y='Type_of_vehicle', data=vc_rating,hue = 'Type_of_vehicle',)\n",
    "plt.xlabel(\"Avg Rating\")\n",
    "plt.title('Vehicle Rating')\n",
    "plt.yticks(rotation =30)\n",
    "plt.show()\n"
   ]
  },
  {
   "cell_type": "markdown",
   "id": "0007e270-33fb-4492-a0a1-793939e7756c",
   "metadata": {},
   "source": [
    "## Now here we can see the Highest avg rating goes to \"Scooter\"."
   ]
  },
  {
   "cell_type": "code",
   "execution_count": null,
   "id": "06cfe2a7-ce4a-4971-af00-43a86d7062eb",
   "metadata": {},
   "outputs": [],
   "source": []
  }
 ],
 "metadata": {
  "kernelspec": {
   "display_name": "Python 3 (ipykernel)",
   "language": "python",
   "name": "python3"
  },
  "language_info": {
   "codemirror_mode": {
    "name": "ipython",
    "version": 3
   },
   "file_extension": ".py",
   "mimetype": "text/x-python",
   "name": "python",
   "nbconvert_exporter": "python",
   "pygments_lexer": "ipython3",
   "version": "3.11.4"
  }
 },
 "nbformat": 4,
 "nbformat_minor": 5
}
